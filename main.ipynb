{
 "cells": [
  {
   "cell_type": "code",
   "execution_count": null,
   "metadata": {},
   "outputs": [],
   "source": [
    "import pandas as pd\n",
    "import seaborn as sns\n",
    "import matplotlib.pyplot as plt\n",
    "import numpy as np\n",
    "import umap\n",
    "from sklearn.manifold import TSNE\n",
    "\n",
    "sns.set_theme()\n",
    "\n",
    "df = pd.read_csv(\"./dataset.csv\")\n",
    "df.columns = df.columns.str.lower()\n",
    "df.columns\n"
   ]
  },
  {
   "cell_type": "code",
   "execution_count": null,
   "metadata": {},
   "outputs": [],
   "source": [
    "sns.set(font_scale=1.5)  # Increase the font scale\n",
    "plt.figure(figsize=(10, 10))\n",
    "\n",
    "class_counts = df['class'].value_counts(normalize=True) * 100\n",
    "class_labels = [f\"{label} ({value:.1f}%)\" for label, value in zip(class_counts.index, class_counts.values)]\n",
    "\n",
    "patches, texts = plt.pie(\n",
    "    x=class_counts, \n",
    "    labels=class_labels,\n",
    "    colors=sns.color_palette('pastel'),\n",
    "    startangle=90,\n",
    "    labeldistance=0.5\n",
    ")\n",
    "\n",
    "for text in texts:\n",
    "    text.set_fontweight('bold')\n",
    "    text.set_horizontalalignment('center')\n",
    "    text.set_fontsize(20) \n",
    "\n",
    "\n",
    "plt.axis(\"equal\")  # This ensures the pie is drawn as a circle.\n",
    "\n",
    "plt.show()\n"
   ]
  },
  {
   "cell_type": "code",
   "execution_count": null,
   "metadata": {},
   "outputs": [],
   "source": [
    "df\n",
    "df.info()\n"
   ]
  },
  {
   "cell_type": "code",
   "execution_count": null,
   "metadata": {},
   "outputs": [],
   "source": [
    "df.isnull().sum()\n"
   ]
  },
  {
   "cell_type": "code",
   "execution_count": null,
   "metadata": {},
   "outputs": [],
   "source": [
    "dfn = df.iloc[:, :-1]\n",
    "dfn.describe().drop(['count'], axis=0).round(3)\n"
   ]
  },
  {
   "cell_type": "code",
   "execution_count": null,
   "metadata": {},
   "outputs": [],
   "source": [
    "# Set the font size using matplotlib\n",
    "plt.rcParams.update({'font.size': 20})\n",
    "\n",
    "for column in df.columns[:-1]:\n",
    "    plt.figure(figsize=(8, 4))\n",
    "    sns.histplot(data=df, x=column, kde=True, hue='class')\n",
    "    \n",
    "    # Increase the distance of the x-axis label\n",
    "    plt.xlabel(column, labelpad=10)\n",
    "    \n",
    "    # Increase the distance of the y-axis label\n",
    "    plt.ylabel('Count', labelpad=10)\n",
    "    \n",
    "    plt.show()\n"
   ]
  },
  {
   "cell_type": "markdown",
   "metadata": {},
   "source": [
    "## Normalize"
   ]
  },
  {
   "cell_type": "code",
   "execution_count": null,
   "metadata": {},
   "outputs": [],
   "source": [
    "numcols = df.select_dtypes(include=['float64', 'int64']).columns\n",
    "df_normed = df.copy()\n",
    "df_normed[numcols] = (df_normed[numcols] - df_normed[numcols].min()) / (df_normed[numcols].max() - df_normed[numcols].min())\n"
   ]
  },
  {
   "cell_type": "code",
   "execution_count": null,
   "metadata": {},
   "outputs": [],
   "source": [
    "dfn = df_normed.iloc[:, :-1]\n",
    "dfn.describe().drop(['count'], axis=0).round(3)\n"
   ]
  },
  {
   "cell_type": "markdown",
   "metadata": {},
   "source": [
    "## Outliers"
   ]
  },
  {
   "cell_type": "code",
   "execution_count": null,
   "metadata": {},
   "outputs": [],
   "source": [
    "import pandas as pd\n",
    "\n",
    "def get_outlier_counts(df: pd.DataFrame, column: str) -> dict:\n",
    "    if column not in df.columns:\n",
    "        return {\"mild\": 0, \"extreme\": 0}\n",
    "    \n",
    "    Q1 = df[column].quantile(0.25)\n",
    "    Q3 = df[column].quantile(0.75)\n",
    "    IQR = Q3 - Q1  # H\n",
    "    \n",
    "    # Vidinis barjeras\n",
    "    inner_lower_bound = Q1 - 1.5 * IQR\n",
    "    inner_upper_bound = Q3 + 1.5 * IQR\n",
    "    # Išorinis barjeras\n",
    "    outer_lower_bound = Q1 - 3.0 * IQR\n",
    "    outer_upper_bound = Q3 + 3.0 * IQR\n",
    "    \n",
    "    # Ekstrimalios išskirtys\n",
    "    extreme_outliers = df[~((df[column] >= outer_lower_bound) & (df[column] <= outer_upper_bound))]\n",
    "    \n",
    "    # Sąlyginės išskirtys\n",
    "    mild_outliers = df[((df[column] < inner_lower_bound) | (df[column] > inner_upper_bound)) & ((df[column] >= outer_lower_bound) & (df[column] <= outer_upper_bound))]\n",
    "    \n",
    "    return {\"mild\": mild_outliers.shape[0], \"extreme\": extreme_outliers.shape[0]}\n",
    "\n",
    "def find_outliers(df: pd.DataFrame) -> dict:\n",
    "    outlier_counts = {}\n",
    "    for column in df.select_dtypes(include=['number']).columns:\n",
    "        outlier_counts[column] = get_outlier_counts(df, column)\n",
    "    return outlier_counts\n",
    "\n",
    "outlier_counts_df = find_outliers(df)\n",
    "\n",
    "print(\"Outlier counts:\")\n",
    "for col, counts in outlier_counts_df.items():\n",
    "    print(f\"{col} - Mild: {counts['mild']}, Extreme: {counts['extreme']}\")\n"
   ]
  },
  {
   "cell_type": "markdown",
   "metadata": {},
   "source": [
    "### Initial"
   ]
  },
  {
   "cell_type": "code",
   "execution_count": null,
   "metadata": {},
   "outputs": [],
   "source": [
    "import pandas as pd\n",
    "import matplotlib.pyplot as plt\n",
    "import seaborn as sns\n",
    "\n",
    "def create_outlier_boxplot(df):\n",
    "    columns_to_melt = ['area', 'majoraxislength', 'minoraxislength', 'eccentricity',\n",
    "                       'convexarea', 'extent', 'perimeter']\n",
    "\n",
    "    df_melted = pd.melt(df, id_vars='class', value_vars=columns_to_melt, \n",
    "                        var_name='metric', value_name='value')\n",
    "\n",
    "    plt.figure(figsize=(17.8, 20.6))\n",
    "    \n",
    "    # Set background color to white\n",
    "    sns.set_style(\"whitegrid\", {'axes.grid' : False})\n",
    "    \n",
    "    ax = sns.boxplot(data=df_melted, x='value', y='metric', hue='class', fliersize=12) # Adjust fliersize here\n",
    "    \n",
    "    # Set font size to 30\n",
    "    ax.tick_params(labelsize=30)\n",
    "    \n",
    "    # Adjust x and y labels with increased distance from their respective axes\n",
    "    ax.set_xlabel('Value', fontsize=30, labelpad=15)\n",
    "    ax.set_ylabel('Metric', fontsize=30, labelpad=15)\n",
    "\n",
    "    # Extract the legend handles and labels\n",
    "    handles, labels = ax.get_legend_handles_labels()\n",
    "    \n",
    "    # Place the legend entries vertically to the right (removing the existing legend first)\n",
    "    ax.legend_.remove()\n",
    "    ax.legend(handles=handles, labels=labels, loc='center left', \n",
    "              bbox_to_anchor=(0.99, 0.5), \n",
    "              fontsize=30, frameon=False)\n",
    "\n",
    "    plt.tight_layout()  # Ensure that all elements fit within the figure boundaries\n",
    "    plt.show()\n",
    "\n",
    "# You'd call the function with your dataframe as:\n",
    "create_outlier_boxplot(df_normed)\n"
   ]
  },
  {
   "cell_type": "markdown",
   "metadata": {},
   "source": [
    "### Removal"
   ]
  },
  {
   "cell_type": "code",
   "execution_count": null,
   "metadata": {},
   "outputs": [],
   "source": [
    "def get_outlier_indices(df: pd.DataFrame, column: str):\n",
    "    Q1 = df[column].quantile(0.25)\n",
    "    Q3 = df[column].quantile(0.75)\n",
    "    IQR = Q3 - Q1\n",
    "    lower_bound = Q1 - 3.0 * IQR\n",
    "    upper_bound = Q3 + 3.0 * IQR\n",
    "    outliers = df[~((df[column] >= lower_bound) & (df[column] <= upper_bound))]\n",
    "    return outliers.index\n",
    "\n",
    "\n",
    "def find_outliers(df: pd.DataFrame) -> set:\n",
    "    outlier_indices = set()\n",
    "    for column in df.select_dtypes(include=['number']).columns:\n",
    "        outlier_indices.update(get_outlier_indices(df, column))\n",
    "    return outlier_indices\n",
    "\n",
    "df0 = df_normed.query('`class` == \"Kecimen\"')\n",
    "df1 = df_normed.query('`class` == \"Besni\"')\n",
    "\n",
    "outlier_indices = find_outliers(df0).union(find_outliers(df1))\n",
    "print(f\"Total outlier count: {len(outlier_indices)}\")\n",
    "df_clean: pd.DataFrame = df_normed.drop(outlier_indices)\n",
    "\n",
    "create_outlier_boxplot(df_clean)\n",
    "\n",
    "\n",
    "df_clean\n",
    "df_clean.info()\n",
    "\n",
    "dfn = df_clean.iloc[:, :-1]\n",
    "dfn.describe().drop(['count'], axis=0).round(3)\n"
   ]
  },
  {
   "cell_type": "markdown",
   "metadata": {},
   "source": [
    "## Correlations"
   ]
  },
  {
   "cell_type": "code",
   "execution_count": null,
   "metadata": {},
   "outputs": [],
   "source": [
    "correlation_matrix = df_clean.select_dtypes(include=['float64', 'int64']).corr()\n",
    "correlation_matrix.to_latex('correlation_matrix.tex')\n",
    "print(correlation_matrix)\n",
    "\n",
    "sns.set_style(\"white\")\n",
    "\n",
    "mask = np.triu(np.ones_like(correlation_matrix, dtype=bool), 1)\n",
    "\n",
    "plt.figure(figsize=(10, 8))\n",
    "sns.heatmap(correlation_matrix, annot=True, cmap='coolwarm', fmt=\".2f\", mask=mask)\n",
    "plt.xticks(rotation=45)\n",
    "plt.show()\n"
   ]
  },
  {
   "cell_type": "code",
   "execution_count": null,
   "metadata": {},
   "outputs": [],
   "source": [
    "import numpy as np\n",
    "import pandas as pd\n",
    "from scipy import stats\n",
    "\n",
    "# Setting display precision for pandas\n",
    "pd.set_option('display.float_format', '{:.3f}'.format)\n",
    "\n",
    "# Assuming df_clean is already defined\n",
    "numeric_df = df_clean.select_dtypes(include=['float64', 'int64'])\n",
    "\n",
    "# Initialize matrix for p-values\n",
    "p_matrix = pd.DataFrame(np.zeros(numeric_df.shape[1] * numeric_df.shape[1]).reshape(numeric_df.shape[1], -1), \n",
    "                        columns=numeric_df.columns, index=numeric_df.columns)\n",
    "\n",
    "# Calculate the p-values\n",
    "for col1 in numeric_df.columns:\n",
    "    for col2 in numeric_df.columns:\n",
    "        r, p = stats.pearsonr(numeric_df[col1], numeric_df[col2])\n",
    "        p_matrix.loc[col1, col2] = p\n",
    "\n",
    "print(p_matrix)\n"
   ]
  },
  {
   "cell_type": "markdown",
   "metadata": {},
   "source": [
    "## t-Sne"
   ]
  },
  {
   "cell_type": "markdown",
   "metadata": {},
   "source": [
    "tsne with outliers marked"
   ]
  },
  {
   "cell_type": "code",
   "execution_count": null,
   "metadata": {},
   "outputs": [],
   "source": [
    "def graph_tsne(perplexity) -> None:\n",
    "    tsne = TSNE(n_components=2, random_state=42, perplexity=perplexity)\n",
    "    tsne_results = tsne.fit_transform(df_normed.drop(columns=\"class\"))\n",
    "\n",
    "    df_tsne = pd.DataFrame(tsne_results, columns=[\"comp1\", \"comp2\"])\n",
    "    df_tsne[\"class\"] = df[\"class\"]\n",
    "    df_tsne[\"type\"] = \"inlier\"\n",
    "    df_tsne.loc[list(outlier_indices), \"type\"] = \"outlier\"\n",
    "\n",
    "    plt.figure(figsize=(10, 8))\n",
    "    sns.scatterplot(x=\"comp1\", y=\"comp2\", hue=\"class\", style=\"type\", data=df_tsne)\n",
    "    plt.show()\n",
    "\n",
    "graph_tsne(10)\n",
    "graph_tsne(30)\n",
    "graph_tsne(50)\n"
   ]
  },
  {
   "cell_type": "markdown",
   "metadata": {},
   "source": [
    "## Umap"
   ]
  },
  {
   "cell_type": "markdown",
   "metadata": {},
   "source": [
    "umap with outliers marked"
   ]
  },
  {
   "cell_type": "code",
   "execution_count": null,
   "metadata": {},
   "outputs": [],
   "source": [
    "def graph_umap(par) -> None:\n",
    "    reducer = umap.UMAP(n_jobs=1, random_state=42, n_neighbors=par)\n",
    "    umap_results = reducer.fit_transform(df_normed.drop(columns=['class']))\n",
    "\n",
    "    df_umap = pd.DataFrame(umap_results, columns=['comp1', 'comp2'])\n",
    "    df_umap['class'] = df['class']\n",
    "    df_umap[\"type\"] = \"inlier\"\n",
    "    df_umap.loc[list(outlier_indices), \"type\"] = \"outlier\"\n",
    "\n",
    "    plt.figure(figsize=(10, 8))\n",
    "    sns.scatterplot(x='comp1', y='comp2', hue='class', style='type', data=df_umap)\n",
    "    plt.show()\n",
    "    \n",
    "graph_umap(5)\n",
    "graph_umap(15)\n",
    "graph_umap(50)\n"
   ]
  }
 ],
 "metadata": {
  "kernelspec": {
   "display_name": ".venv",
   "language": "python",
   "name": "python3"
  },
  "language_info": {
   "codemirror_mode": {
    "name": "ipython",
    "version": 3
   },
   "file_extension": ".py",
   "mimetype": "text/x-python",
   "name": "python",
   "nbconvert_exporter": "python",
   "pygments_lexer": "ipython3",
   "version": "3.11.5"
  }
 },
 "nbformat": 4,
 "nbformat_minor": 2
}
