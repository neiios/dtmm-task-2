{
 "cells": [
  {
   "cell_type": "code",
   "execution_count": null,
   "metadata": {},
   "outputs": [],
   "source": [
    "import pandas as pd\n",
    "import seaborn as sns\n",
    "import matplotlib.pyplot as plt\n",
    "import numpy as np\n",
    "import umap\n",
    "from sklearn.manifold import TSNE\n",
    "from scipy.stats import pearsonr\n",
    "\n",
    "df = pd.read_csv(\"./dataset.csv\")\n",
    "df.columns = df.columns.str.lower()\n",
    "df.columns\n"
   ]
  },
  {
   "cell_type": "code",
   "execution_count": null,
   "metadata": {},
   "outputs": [],
   "source": [
    "sns.set(font_scale=1.5)\n",
    "plt.figure(figsize=(10, 10))\n",
    "\n",
    "class_counts = df[\"class\"].value_counts(normalize=True) * 100\n",
    "class_labels = [\n",
    "    f\"{label} ({value:.1f}%)\"\n",
    "    for label, value in zip(class_counts.index, class_counts.values)\n",
    "]\n",
    "\n",
    "patches, texts = plt.pie(\n",
    "    x=class_counts,\n",
    "    labels=class_labels,\n",
    "    startangle=90,\n",
    "    labeldistance=0.5,\n",
    ")\n",
    "\n",
    "for text in texts:\n",
    "    text.set_fontweight(\"bold\")\n",
    "    text.set_horizontalalignment(\"center\")\n",
    "    text.set_fontsize(20)\n",
    "\n",
    "plt.axis(\"equal\")\n",
    "plt.show()\n"
   ]
  },
  {
   "cell_type": "code",
   "execution_count": null,
   "metadata": {},
   "outputs": [],
   "source": [
    "df\n"
   ]
  },
  {
   "cell_type": "code",
   "execution_count": null,
   "metadata": {},
   "outputs": [],
   "source": [
    "df.info()\n"
   ]
  },
  {
   "cell_type": "code",
   "execution_count": null,
   "metadata": {},
   "outputs": [],
   "source": [
    "df.isnull().sum()\n"
   ]
  },
  {
   "cell_type": "code",
   "execution_count": null,
   "metadata": {},
   "outputs": [],
   "source": [
    "dfn = df.iloc[:, :-1]\n",
    "dfn.describe().drop([\"count\"], axis=0).round(3)\n"
   ]
  },
  {
   "cell_type": "code",
   "execution_count": null,
   "metadata": {},
   "outputs": [],
   "source": [
    "for column in df.columns[:-1]:\n",
    "    custom_params = {\"axes.spines.right\": False, \"axes.spines.top\": False}\n",
    "    sns.set_theme(style=\"ticks\", rc=custom_params)\n",
    "    sns.set_context(\"poster\")\n",
    "\n",
    "    plt.figure(figsize=(8, 5))\n",
    "    sns.histplot(data=df, x=column, kde=True, hue=\"class\", legend=False)\n",
    "\n",
    "    plt.xlabel(column.title(), labelpad=10)\n",
    "    plt.ylabel(\"Count\", labelpad=10)\n",
    "\n",
    "    plt.savefig(f\"./stat-{column}.png\", bbox_inches=\"tight\")\n",
    "    plt.show()\n"
   ]
  },
  {
   "cell_type": "markdown",
   "metadata": {},
   "source": [
    "## Normalize\n"
   ]
  },
  {
   "cell_type": "code",
   "execution_count": null,
   "metadata": {},
   "outputs": [],
   "source": [
    "def normalize(df):\n",
    "    normed = df.copy()\n",
    "    numcols = df.select_dtypes(include=[\"float64\", \"int64\"]).columns\n",
    "    normed[numcols] = (normed[numcols] - normed[numcols].min()) / (\n",
    "        normed[numcols].max() - normed[numcols].min()\n",
    "    )\n",
    "    return normed\n",
    "\n",
    "\n",
    "df_normed = normalize(df)\n"
   ]
  },
  {
   "cell_type": "markdown",
   "metadata": {},
   "source": [
    "## Outliers\n"
   ]
  },
  {
   "cell_type": "markdown",
   "metadata": {},
   "source": [
    "### Boxplot with outliers:\n"
   ]
  },
  {
   "cell_type": "code",
   "execution_count": null,
   "metadata": {},
   "outputs": [],
   "source": [
    "def create_outlier_boxplot(df):\n",
    "    custom_params = {\"axes.spines.right\": False, \"axes.spines.top\": False}\n",
    "    sns.set_theme(style=\"ticks\", rc=custom_params)\n",
    "\n",
    "    columns_to_melt = [\n",
    "        \"area\",\n",
    "        \"majoraxislength\",\n",
    "        \"minoraxislength\",\n",
    "        \"eccentricity\",\n",
    "        \"convexarea\",\n",
    "        \"extent\",\n",
    "        \"perimeter\",\n",
    "    ]\n",
    "\n",
    "    df_melted = pd.melt(\n",
    "        df,\n",
    "        id_vars=\"class\",\n",
    "        value_vars=columns_to_melt,\n",
    "        var_name=\"metric\",\n",
    "        value_name=\"value\",\n",
    "    )\n",
    "\n",
    "    plt.figure(figsize=(17.8, 20.6))\n",
    "\n",
    "    ax = sns.boxplot(data=df_melted, x=\"value\", y=\"metric\", hue=\"class\", fliersize=12)\n",
    "\n",
    "    ax.tick_params(labelsize=30)\n",
    "\n",
    "    ax.set_xlabel(\"Value\", fontsize=30, labelpad=15)\n",
    "    ax.set_ylabel(\"Metric\", fontsize=30, labelpad=15)\n",
    "\n",
    "    ax.set_xlabel(\"Value\")\n",
    "    ax.set_ylabel(\"Metric\")\n",
    "\n",
    "    handles, labels = ax.get_legend_handles_labels()\n",
    "\n",
    "    ax.legend_.remove()\n",
    "    ax.legend(\n",
    "        handles=handles,\n",
    "        labels=labels,\n",
    "        loc=\"center left\",\n",
    "        bbox_to_anchor=(0.99, 0.5),\n",
    "        fontsize=30,\n",
    "        frameon=False,\n",
    "    )\n",
    "\n",
    "    plt.tight_layout()\n",
    "    plt.show()\n",
    "\n",
    "\n",
    "create_outlier_boxplot(df_normed)\n"
   ]
  },
  {
   "cell_type": "markdown",
   "metadata": {},
   "source": [
    "### Identify mild/extreme outliers:\n"
   ]
  },
  {
   "cell_type": "code",
   "execution_count": null,
   "metadata": {},
   "outputs": [],
   "source": [
    "custom_params = {\"axes.spines.right\": False, \"axes.spines.top\": False}\n",
    "sns.set_theme(style=\"ticks\", rc=custom_params)\n",
    "\n",
    "\n",
    "def get_outliers(df: pd.DataFrame, column: str):\n",
    "    Q1 = df[column].quantile(0.25)\n",
    "    Q3 = df[column].quantile(0.75)\n",
    "    IQR = Q3 - Q1\n",
    "    lower_bound = Q1 - 1.5 * IQR\n",
    "    upper_bound = Q3 + 1.5 * IQR\n",
    "    extreme_lower_bound = Q1 - 3 * IQR\n",
    "    extreme_upper_bound = Q3 + 3 * IQR\n",
    "\n",
    "    extreme_outliers = df[\n",
    "        (df[column] < extreme_lower_bound) | (df[column] > extreme_upper_bound)\n",
    "    ]\n",
    "\n",
    "    mild_outliers = df[\n",
    "        ((df[column] < lower_bound) | (df[column] > upper_bound))\n",
    "        & ~(df[column] < extreme_lower_bound)\n",
    "        & ~(df[column] > extreme_upper_bound)\n",
    "    ]\n",
    "\n",
    "    return (\n",
    "        {\"mild\": mild_outliers.shape[0], \"extreme\": extreme_outliers.shape[0]},\n",
    "        extreme_outliers.index,\n",
    "        mild_outliers.index,\n",
    "    )\n",
    "\n",
    "\n",
    "def find_outlier_counts(df: pd.DataFrame) -> dict:\n",
    "    outlier_counts = {}\n",
    "    for column in df.select_dtypes(include=[\"number\"]).columns:\n",
    "        outlier_counts[column], _, _ = get_outliers(df, column)\n",
    "    return outlier_counts\n",
    "\n",
    "\n",
    "def find_outlier_indices(df: pd.DataFrame):\n",
    "    outlier_indices = list()\n",
    "    extreme_outlier_indices = list()\n",
    "\n",
    "    for column in df.select_dtypes(include=[\"number\"]).columns:\n",
    "        _, eoi, oi = get_outliers(df, column)\n",
    "        outlier_indices.extend(oi)\n",
    "        extreme_outlier_indices.extend(eoi)\n",
    "\n",
    "    unique_outlier_indices = np.unique(outlier_indices)\n",
    "    unique_extreme_outlier_indices = np.unique(extreme_outlier_indices)\n",
    "\n",
    "    return unique_extreme_outlier_indices, unique_outlier_indices\n",
    "\n",
    "\n",
    "outlier_counts_df = find_outlier_counts(df)\n",
    "\n",
    "print(\"Outlier counts:\")\n",
    "for col, counts in outlier_counts_df.items():\n",
    "    print(f\"{col} - Mild: {counts['mild']}, Extreme: {counts['extreme']}\")\n",
    "\n",
    "extreme_outlier_indices, outlier_indices = find_outlier_indices(df)\n",
    "\n",
    "\n",
    "print(f\"\\nTotal extreme outlier count: {len(extreme_outlier_indices)}\")\n",
    "print(f\"Total mild outlier count: {len(outlier_indices)}\\n\")\n"
   ]
  },
  {
   "cell_type": "markdown",
   "metadata": {},
   "source": [
    "### Remove extreme outliers:\n"
   ]
  },
  {
   "cell_type": "code",
   "execution_count": null,
   "metadata": {},
   "outputs": [],
   "source": [
    "df_clean: pd.DataFrame = df.drop(extreme_outlier_indices)\n",
    "df_clean_normed: pd.DataFrame = normalize(df_clean)\n",
    "\n",
    "_, outlier_indices = find_outlier_indices(df_clean)\n",
    "\n",
    "print(extreme_outlier_indices)\n",
    "print(outlier_indices)\n",
    "\n",
    "create_outlier_boxplot(df_clean_normed)\n"
   ]
  },
  {
   "cell_type": "markdown",
   "metadata": {},
   "source": [
    "## Correlations\n"
   ]
  },
  {
   "cell_type": "code",
   "execution_count": null,
   "metadata": {},
   "outputs": [],
   "source": [
    "custom_params = {\"axes.spines.right\": False, \"axes.spines.top\": False}\n",
    "sns.set_theme(style=\"ticks\", rc=custom_params)\n",
    "\n",
    "df_clean_numeric = df_clean.select_dtypes(include=[\"float64\", \"int64\"])\n",
    "\n",
    "correlation_matrix = df_clean_numeric.corr()\n",
    "correlation_matrix.to_latex(\"correlation_matrix.tex\")\n",
    "correlation_matrix.round(3).to_latex(\"correlation_matrix.tex\", float_format=\"%.3f\")\n",
    "\n",
    "mask = np.triu(np.ones_like(correlation_matrix, dtype=bool), 1)\n",
    "\n",
    "plt.figure(figsize=(10, 8))\n",
    "sns.heatmap(correlation_matrix, annot=True, cmap=\"coolwarm\", fmt=\".2f\", mask=mask)\n",
    "plt.xticks(rotation=45)\n",
    "plt.show()\n",
    "\n",
    "pvalues = df_clean_numeric.corr(method=lambda x, y: pearsonr(x, y)[1]) - np.eye(\n",
    "    len(df_clean_numeric.columns)\n",
    ")\n",
    "\n",
    "pvalues.round(3).to_latex(\"pvalues.tex\", float_format=\"%.3f\")\n"
   ]
  },
  {
   "cell_type": "markdown",
   "metadata": {},
   "source": [
    "## Dimensionality reduction visualization:\n"
   ]
  },
  {
   "cell_type": "code",
   "execution_count": null,
   "metadata": {},
   "outputs": [],
   "source": [
    "custom_params = {\"axes.spines.right\": False, \"axes.spines.top\": False}\n",
    "sns.set_theme(style=\"ticks\", rc=custom_params)\n",
    "\n",
    "sns.set_theme(style=\"ticks\")\n",
    "plt.rcParams.update({\"font.size\": 25})\n",
    "sns.set_context(\"talk\")\n",
    "\n",
    "\n",
    "def graph_algo(results, filename):\n",
    "    local_df = pd.DataFrame(results, columns=[\"comp1\", \"comp2\"], index=df_clean.index)\n",
    "    local_df[\"class\"] = df_clean[\"class\"].values\n",
    "    local_df[\"type\"] = \"inlier\"\n",
    "    local_df.loc[list(outlier_indices), \"type\"] = \"outlier\"\n",
    "\n",
    "    plt.figure(figsize=(12, 8))\n",
    "\n",
    "    d = {\"inlier\": 50, \"outlier\": 200}\n",
    "    local_df[\"size_outliers\"] = local_df[\"type\"].map(d)\n",
    "\n",
    "    ax = sns.scatterplot(\n",
    "        x=\"comp1\",\n",
    "        y=\"comp2\",\n",
    "        hue=\"class\",\n",
    "        style=\"type\",\n",
    "        data=local_df,\n",
    "    )\n",
    "    ax.set(xlabel=None, ylabel=None)\n",
    "    ax.legend(loc=\"center left\", bbox_to_anchor=(1, 0.5))\n",
    "\n",
    "    ax.spines[\"right\"].set_visible(False)\n",
    "    ax.spines[\"top\"].set_visible(False)\n",
    "\n",
    "    plt.savefig(filename, bbox_inches=\"tight\")\n",
    "\n",
    "    plt.show()\n"
   ]
  },
  {
   "cell_type": "markdown",
   "metadata": {},
   "source": [
    "## t-SNE\n"
   ]
  },
  {
   "cell_type": "code",
   "execution_count": null,
   "metadata": {},
   "outputs": [],
   "source": [
    "def tsne_results(perplexity, df_clean):\n",
    "    tsne = TSNE(n_components=2, random_state=42, perplexity=perplexity)\n",
    "    tsne_results = tsne.fit_transform(df_clean.drop(columns=\"class\"))\n",
    "    return tsne_results\n"
   ]
  },
  {
   "cell_type": "code",
   "execution_count": null,
   "metadata": {},
   "outputs": [],
   "source": [
    "def graph_tsne(perplexity, df_clean, filename):\n",
    "    res = tsne_results(perplexity, df_clean)\n",
    "    graph_algo(res, filename)\n"
   ]
  },
  {
   "cell_type": "markdown",
   "metadata": {},
   "source": [
    "### t-SNE (original dataset):\n"
   ]
  },
  {
   "cell_type": "code",
   "execution_count": null,
   "metadata": {},
   "outputs": [],
   "source": [
    "for perplexity in [10, 30, 50]:\n",
    "    filename = f\"./t-sne-df-{perplexity}.png\"\n",
    "    graph_tsne(perplexity, df_clean, filename)\n"
   ]
  },
  {
   "cell_type": "markdown",
   "metadata": {},
   "source": [
    "### t-SNE (normalized dataset):\n"
   ]
  },
  {
   "cell_type": "code",
   "execution_count": null,
   "metadata": {},
   "outputs": [],
   "source": [
    "for perplexity in [10, 30, 50]:\n",
    "    filename = f\"./t-sne-norm-df-{perplexity}.png\"\n",
    "    graph_tsne(perplexity, df_clean_normed, filename)\n"
   ]
  },
  {
   "cell_type": "markdown",
   "metadata": {},
   "source": [
    "## Umap\n"
   ]
  },
  {
   "cell_type": "code",
   "execution_count": null,
   "metadata": {},
   "outputs": [],
   "source": [
    "def umap_results(n_neighbors, dataset):\n",
    "    reducer = umap.UMAP(n_jobs=1, random_state=42, n_neighbors=n_neighbors)\n",
    "    umap_results = reducer.fit_transform(dataset.drop(columns=[\"class\"]))\n",
    "    return umap_results\n"
   ]
  },
  {
   "cell_type": "code",
   "execution_count": null,
   "metadata": {},
   "outputs": [],
   "source": [
    "def graph_umap(n_neighbors, dataset, filename) -> None:\n",
    "    res = umap_results(n_neighbors, dataset)\n",
    "    graph_algo(res, filename)\n"
   ]
  },
  {
   "cell_type": "markdown",
   "metadata": {},
   "source": [
    "### Umap (original dataset):\n"
   ]
  },
  {
   "cell_type": "code",
   "execution_count": null,
   "metadata": {},
   "outputs": [],
   "source": [
    "for n_neighbors in [10, 75, 150]:\n",
    "    filename = f\"./umap-df-{perplexity}.png\"\n",
    "    graph_umap(n_neighbors, df_clean, filename)\n"
   ]
  },
  {
   "cell_type": "markdown",
   "metadata": {},
   "source": [
    "### Umap (normalized dataset):\n"
   ]
  },
  {
   "cell_type": "code",
   "execution_count": null,
   "metadata": {},
   "outputs": [],
   "source": [
    "for n_neighbors in [10, 75, 150]:\n",
    "    filename = f\"./umap-norm-df-{perplexity}.png\"\n",
    "    graph_umap(n_neighbors, df_clean_normed, filename)\n"
   ]
  },
  {
   "cell_type": "markdown",
   "metadata": {},
   "source": [
    "## Umap vs t-SNE (Silhouette Score)\n"
   ]
  },
  {
   "cell_type": "code",
   "execution_count": null,
   "metadata": {},
   "outputs": [],
   "source": [
    "from sklearn.metrics import silhouette_score\n",
    "from sklearn.cluster import KMeans\n",
    "import umap\n",
    "from sklearn.manifold import TSNE\n",
    "\n",
    "\n",
    "# Function to compute t-SNE embeddings\n",
    "def tsne_embeddings(data, perplexity):\n",
    "    tsne = TSNE(n_components=2, random_state=42, perplexity=perplexity)\n",
    "    return tsne.fit_transform(data.drop(columns=\"class\"))\n",
    "\n",
    "\n",
    "# Function to compute UMAP embeddings\n",
    "def umap_embeddings(data, neighbors):\n",
    "    reducer = umap.UMAP(n_jobs=1, random_state=42, n_neighbors=neighbors)\n",
    "    return reducer.fit_transform(data.drop(columns=[\"class\"]))\n",
    "\n",
    "\n",
    "# Function to compute Silhouette Score\n",
    "def compute_silhouette_score(embeddings):\n",
    "    kmeans = KMeans(n_clusters=2, random_state=42)\n",
    "    cluster_labels = kmeans.fit_predict(embeddings)\n",
    "    score = silhouette_score(embeddings, cluster_labels)\n",
    "    return score\n",
    "\n",
    "\n",
    "tsne_scores = []\n",
    "umap_scores = []\n",
    "\n",
    "for value in [10, 30, 50]:\n",
    "    tsne_embedding = tsne_embeddings(df_clean_normed, value)\n",
    "\n",
    "    tsne_scores.append(compute_silhouette_score(tsne_embedding))\n",
    "\n",
    "for value in [10, 75, 150]:\n",
    "    umap_embedding = umap_embeddings(df_clean_normed, value)\n",
    "\n",
    "    umap_scores.append(compute_silhouette_score(umap_embedding))\n",
    "\n",
    "\n",
    "print(\"t-SNE Silhouette scores:\", tsne_scores)\n",
    "print(\"UMAP Silhouette scores:\", umap_scores)\n"
   ]
  }
 ],
 "metadata": {
  "kernelspec": {
   "display_name": ".venv",
   "language": "python",
   "name": "python3"
  },
  "language_info": {
   "codemirror_mode": {
    "name": "ipython",
    "version": 3
   },
   "file_extension": ".py",
   "mimetype": "text/x-python",
   "name": "python",
   "nbconvert_exporter": "python",
   "pygments_lexer": "ipython3",
   "version": "3.11.5"
  }
 },
 "nbformat": 4,
 "nbformat_minor": 2
}
