{
 "cells": [
  {
   "cell_type": "code",
   "execution_count": null,
   "metadata": {},
   "outputs": [],
   "source": [
    "import pandas as pd\n",
    "import seaborn as sns\n",
    "import matplotlib.pyplot as plt\n",
    "import numpy as np\n",
    "import umap\n",
    "from sklearn.manifold import TSNE\n",
    "from scipy.stats import pearsonr\n",
    "\n",
    "df = pd.read_csv(\"./dataset.csv\")\n",
    "df.columns = df.columns.str.lower()\n",
    "df.columns\n"
   ]
  },
  {
   "cell_type": "code",
   "execution_count": null,
   "metadata": {},
   "outputs": [],
   "source": [
    "sns.set(font_scale=1.5)\n",
    "plt.figure(figsize=(10, 10))\n",
    "\n",
    "class_counts = df[\"class\"].value_counts(normalize=True) * 100\n",
    "class_labels = [\n",
    "    f\"{label} ({value:.1f}%)\"\n",
    "    for label, value in zip(class_counts.index, class_counts.values)\n",
    "]\n",
    "\n",
    "patches, texts = plt.pie(\n",
    "    x=class_counts,\n",
    "    labels=class_labels,\n",
    "    startangle=90,\n",
    "    labeldistance=0.5,\n",
    ")\n",
    "\n",
    "for text in texts:\n",
    "    text.set_fontweight(\"bold\")\n",
    "    text.set_horizontalalignment(\"center\")\n",
    "    text.set_fontsize(20)\n",
    "\n",
    "plt.axis(\"equal\")\n",
    "plt.show()\n"
   ]
  },
  {
   "cell_type": "code",
   "execution_count": null,
   "metadata": {},
   "outputs": [],
   "source": [
    "df\n"
   ]
  },
  {
   "cell_type": "code",
   "execution_count": null,
   "metadata": {},
   "outputs": [],
   "source": [
    "df.info()\n"
   ]
  },
  {
   "cell_type": "code",
   "execution_count": null,
   "metadata": {},
   "outputs": [],
   "source": [
    "df.isnull().sum()\n"
   ]
  },
  {
   "cell_type": "code",
   "execution_count": null,
   "metadata": {},
   "outputs": [],
   "source": [
    "dfn = df.iloc[:, :-1]\n",
    "dfn.describe().drop([\"count\"], axis=0).round(3)\n"
   ]
  },
  {
   "cell_type": "code",
   "execution_count": null,
   "metadata": {},
   "outputs": [],
   "source": [
    "for column in df.columns[:-1]:\n",
    "    custom_params = {\"axes.spines.right\": False, \"axes.spines.top\": False}\n",
    "    sns.set_theme(style=\"ticks\", rc=custom_params)\n",
    "\n",
    "    plt.figure(figsize=(8, 4))\n",
    "    sns.histplot(data=df, x=column, kde=True, hue=\"class\")\n",
    "\n",
    "    plt.xlabel(column.title(), labelpad=10)\n",
    "    plt.ylabel(\"Count\", labelpad=10)\n",
    "\n",
    "    plt.show()\n"
   ]
  },
  {
   "cell_type": "markdown",
   "metadata": {},
   "source": [
    "## Normalize\n"
   ]
  },
  {
   "cell_type": "code",
   "execution_count": null,
   "metadata": {},
   "outputs": [],
   "source": [
    "def normalize(df):\n",
    "    normed = df.copy()\n",
    "    numcols = df.select_dtypes(include=[\"float64\", \"int64\"]).columns\n",
    "    normed[numcols] = (normed[numcols] - normed[numcols].min()) / (\n",
    "        normed[numcols].max() - normed[numcols].min()\n",
    "    )\n",
    "    return normed\n",
    "\n",
    "\n",
    "df_normed = normalize(df)\n"
   ]
  },
  {
   "cell_type": "markdown",
   "metadata": {},
   "source": [
    "## Outliers\n"
   ]
  },
  {
   "cell_type": "markdown",
   "metadata": {},
   "source": [
    "### Initial\n"
   ]
  },
  {
   "cell_type": "code",
   "execution_count": null,
   "metadata": {},
   "outputs": [],
   "source": [
    "def create_outlier_boxplot(df):\n",
    "    custom_params = {\"axes.spines.right\": False, \"axes.spines.top\": False}\n",
    "    sns.set_theme(style=\"ticks\", rc=custom_params)\n",
    "\n",
    "    columns_to_melt = [\n",
    "        \"area\",\n",
    "        \"majoraxislength\",\n",
    "        \"minoraxislength\",\n",
    "        \"eccentricity\",\n",
    "        \"convexarea\",\n",
    "        \"extent\",\n",
    "        \"perimeter\",\n",
    "    ]\n",
    "\n",
    "    df_melted = pd.melt(\n",
    "        df,\n",
    "        id_vars=\"class\",\n",
    "        value_vars=columns_to_melt,\n",
    "        var_name=\"metric\",\n",
    "        value_name=\"value\",\n",
    "    )\n",
    "\n",
    "    plt.figure(figsize=(12.8, 9.6))\n",
    "\n",
    "    ax = sns.boxplot(\n",
    "        data=df_melted,\n",
    "        x=\"value\",\n",
    "        y=\"metric\",\n",
    "        hue=\"class\",\n",
    "    )\n",
    "\n",
    "    ax.set_xlabel(\"Value\")\n",
    "    ax.set_ylabel(\"Metric\")\n",
    "\n",
    "    handles, labels = ax.get_legend_handles_labels()\n",
    "\n",
    "    ax.legend_.remove()\n",
    "    ax.legend(\n",
    "        handles=handles,\n",
    "        labels=labels,\n",
    "        loc=\"center left\",\n",
    "        bbox_to_anchor=(0.99, 0.5),\n",
    "        frameon=False,\n",
    "    )\n",
    "\n",
    "    plt.tight_layout()\n",
    "    plt.show()\n",
    "\n",
    "\n",
    "create_outlier_boxplot(df_normed)\n"
   ]
  },
  {
   "cell_type": "markdown",
   "metadata": {},
   "source": [
    "### Removal\n"
   ]
  },
  {
   "cell_type": "code",
   "execution_count": null,
   "metadata": {},
   "outputs": [],
   "source": [
    "custom_params = {\"axes.spines.right\": False, \"axes.spines.top\": False}\n",
    "sns.set_theme(style=\"ticks\", rc=custom_params)\n",
    "\n",
    "\n",
    "def get_outliers(df: pd.DataFrame, column: str):\n",
    "    Q1 = df[column].quantile(0.25)\n",
    "    Q3 = df[column].quantile(0.75)\n",
    "    IQR = Q3 - Q1\n",
    "    lower_bound = Q1 - 1.5 * IQR\n",
    "    upper_bound = Q3 + 1.5 * IQR\n",
    "    extreme_lower_bound = Q1 - 3 * IQR\n",
    "    extreme_upper_bound = Q3 + 3 * IQR\n",
    "\n",
    "    extreme_outliers = df[\n",
    "        ~((df[column] >= extreme_lower_bound) & (df[column] <= extreme_upper_bound))\n",
    "    ]\n",
    "    mild_outliers = df[\n",
    "        ((df[column] < lower_bound) | (df[column] > upper_bound))\n",
    "        & ((df[column] >= extreme_lower_bound) & (df[column] <= extreme_upper_bound))\n",
    "    ]\n",
    "\n",
    "    return (\n",
    "        {\"mild\": mild_outliers.shape[0], \"extreme\": extreme_outliers.shape[0]},\n",
    "        extreme_outliers.index,\n",
    "        mild_outliers.index,\n",
    "    )\n",
    "\n",
    "\n",
    "def find_outlier_counts(df: pd.DataFrame) -> dict:\n",
    "    outlier_counts = {}\n",
    "    for column in df.select_dtypes(include=[\"number\"]).columns:\n",
    "        outlier_counts[column], _, _ = get_outliers(df, column)\n",
    "    return outlier_counts\n",
    "\n",
    "\n",
    "def find_outlier_indices(df: pd.DataFrame):\n",
    "    outlier_indices = list()\n",
    "    extreme_outlier_indices = list()\n",
    "\n",
    "    for column in df.select_dtypes(include=[\"number\"]).columns:\n",
    "        _, eoi, oi = get_outliers(df, column)\n",
    "        outlier_indices.extend(oi)\n",
    "        extreme_outlier_indices.extend(eoi)\n",
    "\n",
    "    return extreme_outlier_indices, outlier_indices\n",
    "\n",
    "\n",
    "outlier_counts_df = find_outlier_counts(df)\n",
    "\n",
    "print(\"Outlier counts:\")\n",
    "for col, counts in outlier_counts_df.items():\n",
    "    print(f\"{col} - Mild: {counts['mild']}, Extreme: {counts['extreme']}\")\n",
    "\n",
    "df0 = df.query('`class` == \"Kecimen\"')\n",
    "df1 = df.query('`class` == \"Besni\"')\n",
    "\n",
    "df0eoi, df0oi = find_outlier_indices(df0)\n",
    "df1eoi, df1oi = find_outlier_indices(df1)\n",
    "\n",
    "extreme_outlier_indices = df0eoi + df1eoi\n",
    "outlier_indices = df0oi + df1oi\n",
    "print(f\"\\nTotal extreme outlier count: {len(extreme_outlier_indices)}\")\n",
    "print(f\"Total mild outlier count: {len(outlier_indices)}\\n\")\n",
    "\n",
    "df_clean: pd.DataFrame = df.drop(extreme_outlier_indices)\n",
    "df_clean_normed: pd.DataFrame = normalize(df_clean)\n",
    "\n",
    "create_outlier_boxplot(df_clean_normed)\n"
   ]
  },
  {
   "cell_type": "markdown",
   "metadata": {},
   "source": [
    "## Correlations\n"
   ]
  },
  {
   "cell_type": "code",
   "execution_count": null,
   "metadata": {},
   "outputs": [],
   "source": [
    "custom_params = {\"axes.spines.right\": False, \"axes.spines.top\": False}\n",
    "sns.set_theme(style=\"ticks\", rc=custom_params)\n",
    "\n",
    "df_clean_numeric = df_clean.select_dtypes(include=[\"float64\", \"int64\"])\n",
    "\n",
    "correlation_matrix = df_clean_numeric.corr()\n",
    "correlation_matrix.to_latex(\"correlation_matrix.tex\")\n",
    "correlation_matrix.round(3).to_latex(\"correlation_matrix.tex\", float_format=\"%.3f\")\n",
    "\n",
    "mask = np.triu(np.ones_like(correlation_matrix, dtype=bool), 1)\n",
    "\n",
    "plt.figure(figsize=(10, 8))\n",
    "sns.heatmap(correlation_matrix, annot=True, cmap=\"coolwarm\", fmt=\".2f\", mask=mask)\n",
    "plt.xticks(rotation=45)\n",
    "plt.show()\n",
    "\n",
    "pvalues = df_clean_numeric.corr(method=lambda x, y: pearsonr(x, y)[1]) - np.eye(\n",
    "    len(df_clean_numeric.columns)\n",
    ")\n",
    "\n",
    "pvalues.round(3).to_latex(\"pvalues.tex\", float_format=\"%.3f\")\n"
   ]
  },
  {
   "cell_type": "markdown",
   "metadata": {},
   "source": [
    "# Algos\n"
   ]
  },
  {
   "cell_type": "code",
   "execution_count": null,
   "metadata": {},
   "outputs": [],
   "source": [
    "custom_params = {\"axes.spines.right\": False, \"axes.spines.top\": False}\n",
    "sns.set_theme(style=\"ticks\", rc=custom_params)\n",
    "\n",
    "\n",
    "def graph_algo(results):\n",
    "    local_df = pd.DataFrame(results, columns=[\"comp1\", \"comp2\"])\n",
    "    local_df[\"class\"] = df[\"class\"]\n",
    "    local_df[\"type\"] = \"inlier\"\n",
    "    local_df.loc[list(outlier_indices), \"type\"] = \"outlier\"\n",
    "    local_df.loc[list(extreme_outlier_indices), \"type\"] = \"extreme_outlier\"\n",
    "\n",
    "    plt.figure(figsize=(18, 10))\n",
    "\n",
    "    d = {\"inlier\": 50, \"outlier\": 200, \"extreme_outlier\": 300}\n",
    "    local_df[\"size_outliers\"] = local_df[\"type\"].map(d)\n",
    "\n",
    "    ax = sns.scatterplot(\n",
    "        x=\"comp1\",\n",
    "        y=\"comp2\",\n",
    "        hue=\"class\",\n",
    "        style=\"type\",\n",
    "        data=local_df,\n",
    "        size=\"size_outliers\",\n",
    "        sizes=(50, 300),\n",
    "    )\n",
    "    ax.set(xlabel=\"X\", ylabel=\"Y\")\n",
    "    plt.show()\n"
   ]
  },
  {
   "cell_type": "markdown",
   "metadata": {},
   "source": [
    "## t-Sne\n"
   ]
  },
  {
   "cell_type": "markdown",
   "metadata": {},
   "source": [
    "tsne with outliers marked\n"
   ]
  },
  {
   "cell_type": "code",
   "execution_count": null,
   "metadata": {},
   "outputs": [],
   "source": [
    "custom_params = {\"axes.spines.right\": False, \"axes.spines.top\": False}\n",
    "sns.set_theme(style=\"ticks\", rc=custom_params)\n",
    "\n",
    "\n",
    "def graph_tsne(perplexity) -> None:\n",
    "    tsne = TSNE(n_components=2, random_state=42, perplexity=perplexity)\n",
    "    tsne_results = tsne.fit_transform(df_normed.drop(columns=\"class\"))\n",
    "    graph_algo(tsne_results)\n",
    "\n",
    "\n",
    "graph_tsne(10)\n",
    "graph_tsne(30)\n",
    "graph_tsne(50)\n"
   ]
  },
  {
   "cell_type": "markdown",
   "metadata": {},
   "source": [
    "## Umap\n"
   ]
  },
  {
   "cell_type": "markdown",
   "metadata": {},
   "source": [
    "umap with outliers marked\n"
   ]
  },
  {
   "cell_type": "code",
   "execution_count": null,
   "metadata": {},
   "outputs": [],
   "source": [
    "custom_params = {\"axes.spines.right\": False, \"axes.spines.top\": False}\n",
    "sns.set_theme(style=\"ticks\", rc=custom_params)\n",
    "\n",
    "\n",
    "def graph_umap(par) -> None:\n",
    "    reducer = umap.UMAP(n_jobs=1, random_state=42, n_neighbors=par)\n",
    "    umap_results = reducer.fit_transform(df_normed.drop(columns=[\"class\"]))\n",
    "    graph_algo(umap_results)\n",
    "\n",
    "\n",
    "graph_umap(5)\n",
    "graph_umap(15)\n",
    "graph_umap(50)\n"
   ]
  }
 ],
 "metadata": {
  "kernelspec": {
   "display_name": ".venv",
   "language": "python",
   "name": "python3"
  },
  "language_info": {
   "codemirror_mode": {
    "name": "ipython",
    "version": 3
   },
   "file_extension": ".py",
   "mimetype": "text/x-python",
   "name": "python",
   "nbconvert_exporter": "python",
   "pygments_lexer": "ipython3",
   "version": "3.11.5"
  }
 },
 "nbformat": 4,
 "nbformat_minor": 2
}
