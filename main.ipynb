{
 "cells": [
  {
   "cell_type": "code",
   "execution_count": null,
   "metadata": {},
   "outputs": [],
   "source": [
    "import pandas as pd\n",
    "import seaborn as sns\n",
    "import matplotlib.pyplot as plt\n",
    "import numpy as np\n",
    "import umap\n",
    "from sklearn.manifold import TSNE\n",
    "from scipy.stats import pearsonr\n",
    "\n",
    "custom_params = {\"axes.spines.right\": False, \"axes.spines.top\": False}\n",
    "sns.set_theme(style=\"ticks\", rc=custom_params)\n",
    "\n",
    "df = pd.read_csv(\"./dataset.csv\")\n",
    "df.columns = df.columns.str.lower()\n",
    "df.columns\n"
   ]
  },
  {
   "cell_type": "code",
   "execution_count": null,
   "metadata": {},
   "outputs": [],
   "source": [
    "df\n",
    "df.info()\n"
   ]
  },
  {
   "cell_type": "code",
   "execution_count": null,
   "metadata": {},
   "outputs": [],
   "source": [
    "df.isnull().sum()\n"
   ]
  },
  {
   "cell_type": "code",
   "execution_count": null,
   "metadata": {},
   "outputs": [],
   "source": [
    "dfn = df.iloc[:, :-1]\n",
    "dfn.describe().drop(['count'], axis=0).round(3)\n"
   ]
  },
  {
   "cell_type": "code",
   "execution_count": null,
   "metadata": {},
   "outputs": [],
   "source": [
    "for column in df.columns[:-1]:\n",
    "    plt.figure(figsize=(8, 4))\n",
    "    sns.histplot(data=df, x=column, kde=True, hue='class')\n",
    "    plt.show()\n"
   ]
  },
  {
   "cell_type": "markdown",
   "metadata": {},
   "source": [
    "## Normalize"
   ]
  },
  {
   "cell_type": "code",
   "execution_count": null,
   "metadata": {},
   "outputs": [],
   "source": [
    "def normalize(df):\n",
    "    normed = df.copy()\n",
    "    normed[numcols] = (normed[numcols] - normed[numcols].min()) / (normed[numcols].max() - normed[numcols].min())\n",
    "    return normed\n",
    "\n",
    "numcols = df.select_dtypes(include=['float64', 'int64']).columns\n",
    "df_normed = normalize(df)\n"
   ]
  },
  {
   "cell_type": "markdown",
   "metadata": {},
   "source": [
    "## Outliers"
   ]
  },
  {
   "cell_type": "markdown",
   "metadata": {},
   "source": [
    "### Initial"
   ]
  },
  {
   "cell_type": "code",
   "execution_count": null,
   "metadata": {},
   "outputs": [],
   "source": [
    "def create_outlier_boxplot(df):\n",
    "    columns_to_melt = ['area', 'majoraxislength', 'minoraxislength', 'eccentricity',\n",
    "                    'convexarea', 'extent', 'perimeter']\n",
    "\n",
    "    df_melted = pd.melt(df, id_vars='class', value_vars=columns_to_melt, \n",
    "                        var_name='metric', value_name='value')\n",
    "\n",
    "    plt.figure(figsize=(12.8, 9.6))\n",
    "    sns.boxplot(data=df_melted, x='value', y='metric', hue='class')\n",
    "    plt.show()\n",
    "\n",
    "create_outlier_boxplot(df_normed)\n"
   ]
  },
  {
   "cell_type": "markdown",
   "metadata": {},
   "source": [
    "### Removal"
   ]
  },
  {
   "cell_type": "code",
   "execution_count": null,
   "metadata": {},
   "outputs": [],
   "source": [
    "def get_outlier_indices(df: pd.DataFrame, column: str):\n",
    "    Q1 = df[column].quantile(0.25)\n",
    "    Q3 = df[column].quantile(0.75)\n",
    "    IQR = Q3 - Q1\n",
    "    lower_bound = Q1 - 1.5 * IQR\n",
    "    upper_bound = Q3 + 1.5 * IQR\n",
    "    extreme_lower_bound = Q1 - 3 * IQR\n",
    "    extreme_upper_bound = Q3 + 3 * IQR\n",
    "    \n",
    "    extreme_outliers = df[~((df[column] >= extreme_lower_bound) & (df[column] <= extreme_upper_bound))]\n",
    "    outliers = df[~((df[column] >= lower_bound) & (df[column] <= upper_bound))]\n",
    "    \n",
    "    return extreme_outliers.index, outliers.index\n",
    "\n",
    "\n",
    "def find_outliers(df: pd.DataFrame):\n",
    "    outlier_indices = list()\n",
    "    extreme_outlier_indices = list()\n",
    "    \n",
    "    for column in df.select_dtypes(include=['number']).columns:\n",
    "        eoi, oi = get_outlier_indices(df, column)\n",
    "        outlier_indices.extend(oi)\n",
    "        extreme_outlier_indices.extend(eoi)\n",
    "        \n",
    "    return extreme_outlier_indices, outlier_indices\n",
    "\n",
    "df0 = df.query('`class` == \"Kecimen\"')\n",
    "df1 = df.query('`class` == \"Besni\"')\n",
    "\n",
    "df0eoi, df0oi = find_outliers(df0)\n",
    "df1eoi, df1oi = find_outliers(df1)\n",
    "\n",
    "extreme_outlier_indices = df0eoi + df1eoi\n",
    "outlier_indices = df0oi + df1oi\n",
    "print(f\"Total extreme outlier count: {len(extreme_outlier_indices)}\")\n",
    "print(f\"Total mild outlier count: {len(outlier_indices)}\")\n",
    "\n",
    "df_clean: pd.DataFrame = df.drop(extreme_outlier_indices)\n",
    "df_clean_normed: pd.DataFrame = normalize(df_clean)\n",
    "\n",
    "create_outlier_boxplot(df_clean_normed)\n"
   ]
  },
  {
   "cell_type": "markdown",
   "metadata": {},
   "source": [
    "## Correlations"
   ]
  },
  {
   "cell_type": "code",
   "execution_count": null,
   "metadata": {},
   "outputs": [],
   "source": [
    "df_clean_numeric = df_clean.select_dtypes(include=[\"float64\", \"int64\"])\n",
    "\n",
    "correlation_matrix = df_clean_numeric.corr()\n",
    "correlation_matrix.to_latex(\"correlation_matrix.tex\")\n",
    "correlation_matrix.round(3).to_latex(\"correlation_matrix.tex\", float_format=\"%.3f\")\n",
    "\n",
    "mask = np.triu(np.ones_like(correlation_matrix, dtype=bool), 1)\n",
    "\n",
    "plt.figure(figsize=(10, 8))\n",
    "sns.heatmap(correlation_matrix, annot=True, cmap=\"coolwarm\", fmt=\".2f\", mask=mask)\n",
    "plt.xticks(rotation=45)\n",
    "plt.show()\n",
    "\n",
    "pvalues = (df_clean_numeric.corr(method=lambda x, y: \n",
    "               pearsonr(x, y)[1]) - np.eye(len(df_clean_numeric.columns)))\n",
    "\n",
    "pvalues.round(3).to_latex(\"pvalues.tex\", float_format=\"%.3f\")\n"
   ]
  },
  {
   "cell_type": "code",
   "execution_count": null,
   "metadata": {},
   "outputs": [],
   "source": [
    "def graph_algo(results):\n",
    "    local_df = pd.DataFrame(results, columns=[\"comp1\", \"comp2\"])\n",
    "    local_df[\"class\"] = df[\"class\"]\n",
    "    local_df[\"type\"] = \"inlier\"\n",
    "    local_df.loc[list(outlier_indices), \"type\"] = \"outlier\"\n",
    "    local_df.loc[list(extreme_outlier_indices), \"type\"] = \"extreme_outlier\"\n",
    "\n",
    "    plt.figure(figsize=(10, 8))\n",
    "    d = {\"inlier\": 1, \"outlier\": 2, \"extreme_outlier\": 3}\n",
    "    local_df[\"size_outliers\"] = local_df[\"type\"].map(d)\n",
    "    ax = sns.scatterplot(\n",
    "        x=\"comp1\",\n",
    "        y=\"comp2\",\n",
    "        hue=\"class\",\n",
    "        style=\"type\",\n",
    "        data=local_df,\n",
    "        size=\"size_outliers\",\n",
    "    )\n",
    "    ax.set(xlabel='X', ylabel='Y')\n",
    "    plt.show()\n"
   ]
  },
  {
   "cell_type": "markdown",
   "metadata": {},
   "source": [
    "## t-Sne"
   ]
  },
  {
   "cell_type": "markdown",
   "metadata": {},
   "source": [
    "tsne with outliers marked"
   ]
  },
  {
   "cell_type": "code",
   "execution_count": null,
   "metadata": {},
   "outputs": [],
   "source": [
    "def graph_tsne(perplexity) -> None:\n",
    "    tsne = TSNE(n_components=2, random_state=42, perplexity=perplexity)\n",
    "    tsne_results = tsne.fit_transform(df_normed.drop(columns=\"class\"))\n",
    "    graph_algo(tsne_results)\n",
    "\n",
    "graph_tsne(10)\n",
    "graph_tsne(30)\n",
    "graph_tsne(50)\n"
   ]
  },
  {
   "cell_type": "markdown",
   "metadata": {},
   "source": [
    "## Umap"
   ]
  },
  {
   "cell_type": "markdown",
   "metadata": {},
   "source": [
    "umap with outliers marked"
   ]
  },
  {
   "cell_type": "code",
   "execution_count": null,
   "metadata": {},
   "outputs": [],
   "source": [
    "def graph_umap(par) -> None:\n",
    "    reducer = umap.UMAP(n_jobs=1, random_state=42, n_neighbors=par)\n",
    "    umap_results = reducer.fit_transform(df_normed.drop(columns=['class']))\n",
    "    graph_algo(umap_results)\n",
    "\n",
    "    \n",
    "graph_umap(5)\n",
    "graph_umap(15)\n",
    "graph_umap(50)\n"
   ]
  }
 ],
 "metadata": {
  "kernelspec": {
   "display_name": ".venv",
   "language": "python",
   "name": "python3"
  },
  "language_info": {
   "codemirror_mode": {
    "name": "ipython",
    "version": 3
   },
   "file_extension": ".py",
   "mimetype": "text/x-python",
   "name": "python",
   "nbconvert_exporter": "python",
   "pygments_lexer": "ipython3",
   "version": "3.11.5"
  }
 },
 "nbformat": 4,
 "nbformat_minor": 2
}
