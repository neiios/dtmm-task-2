{
 "cells": [
  {
   "cell_type": "code",
   "execution_count": null,
   "metadata": {},
   "outputs": [],
   "source": [
    "import pandas as pd\n",
    "import seaborn as sns\n",
    "import matplotlib.pyplot as plt\n",
    "import numpy as np\n",
    "import umap\n",
    "from sklearn.manifold import TSNE\n",
    "\n",
    "sns.set_theme()\n",
    "\n",
    "df = pd.read_csv(\"./dataset.csv\")\n",
    "df.columns = df.columns.str.lower()\n",
    "df.columns\n"
   ]
  },
  {
   "cell_type": "code",
   "execution_count": null,
   "metadata": {},
   "outputs": [],
   "source": [
    "df\n",
    "df.info()\n"
   ]
  },
  {
   "cell_type": "code",
   "execution_count": null,
   "metadata": {},
   "outputs": [],
   "source": [
    "df.isnull().sum()\n"
   ]
  },
  {
   "cell_type": "code",
   "execution_count": null,
   "metadata": {},
   "outputs": [],
   "source": [
    "dfn = df.iloc[:, :-1]\n",
    "dfn.describe().drop(['count'], axis=0).round(3)\n"
   ]
  },
  {
   "cell_type": "code",
   "execution_count": null,
   "metadata": {},
   "outputs": [],
   "source": [
    "for column in df.columns[:-1]:\n",
    "    plt.figure(figsize=(8, 4))\n",
    "    sns.histplot(data=df, x=column, kde=True, hue='class')\n",
    "    plt.show()\n"
   ]
  },
  {
   "cell_type": "markdown",
   "metadata": {},
   "source": [
    "## Normalize"
   ]
  },
  {
   "cell_type": "code",
   "execution_count": null,
   "metadata": {},
   "outputs": [],
   "source": [
    "numcols = df.select_dtypes(include=['float64', 'int64']).columns\n",
    "df_normed = df.copy()\n",
    "df_normed[numcols] = (df_normed[numcols] - df_normed[numcols].min()) / (df_normed[numcols].max() - df_normed[numcols].min())\n"
   ]
  },
  {
   "cell_type": "markdown",
   "metadata": {},
   "source": [
    "## Outliers"
   ]
  },
  {
   "cell_type": "markdown",
   "metadata": {},
   "source": [
    "### Initial"
   ]
  },
  {
   "cell_type": "code",
   "execution_count": null,
   "metadata": {},
   "outputs": [],
   "source": [
    "def create_outlier_boxplot(df):\n",
    "    columns_to_melt = ['area', 'majoraxislength', 'minoraxislength', 'eccentricity',\n",
    "                    'convexarea', 'extent', 'perimeter']\n",
    "\n",
    "    df_melted = pd.melt(df, id_vars='class', value_vars=columns_to_melt, \n",
    "                        var_name='metric', value_name='value')\n",
    "\n",
    "    plt.figure(figsize=(12.8, 9.6))\n",
    "    sns.boxplot(data=df_melted, x='value', y='metric', hue='class')\n",
    "    plt.show()\n",
    "\n",
    "create_outlier_boxplot(df_normed)\n"
   ]
  },
  {
   "cell_type": "markdown",
   "metadata": {},
   "source": [
    "### Removal"
   ]
  },
  {
   "cell_type": "code",
   "execution_count": null,
   "metadata": {},
   "outputs": [],
   "source": [
    "def get_outlier_indices(df: pd.DataFrame, column: str):\n",
    "    Q1 = df[column].quantile(0.25)\n",
    "    Q3 = df[column].quantile(0.75)\n",
    "    IQR = Q3 - Q1\n",
    "    lower_bound = Q1 - 1.5 * IQR\n",
    "    upper_bound = Q3 + 1.5 * IQR\n",
    "    outliers = df[~((df[column] >= lower_bound) & (df[column] <= upper_bound))]\n",
    "    return outliers.index\n",
    "\n",
    "\n",
    "def find_outliers(df: pd.DataFrame) -> set:\n",
    "    outlier_indices = set()\n",
    "    for column in df.select_dtypes(include=['number']).columns:\n",
    "        outlier_indices.update(get_outlier_indices(df, column))\n",
    "    return outlier_indices\n",
    "\n",
    "df0 = df.query('`class` == \"Kecimen\"')\n",
    "df1 = df.query('`class` == \"Besni\"')\n",
    "\n",
    "outlier_indices = find_outliers(df0).union(find_outliers(df1))\n",
    "print(f\"Total outlier count: {len(outlier_indices)}\")\n",
    "df_clean: pd.DataFrame = df.drop(outlier_indices)\n",
    "\n",
    "create_outlier_boxplot(df_clean)\n"
   ]
  },
  {
   "cell_type": "markdown",
   "metadata": {},
   "source": [
    "## Correlations"
   ]
  },
  {
   "cell_type": "code",
   "execution_count": null,
   "metadata": {},
   "outputs": [],
   "source": [
    "correlation_matrix = df_clean.select_dtypes(include=['float64', 'int64']).corr()\n",
    "correlation_matrix.to_latex('correlation_matrix.tex')\n",
    "print(correlation_matrix)\n",
    "\n",
    "mask = np.triu(np.ones_like(correlation_matrix, dtype=bool), 1)\n",
    "\n",
    "plt.figure(figsize=(10, 8))\n",
    "sns.heatmap(correlation_matrix, annot=True, cmap='coolwarm', fmt=\".2f\", mask=mask)\n",
    "plt.xticks(rotation=45)\n",
    "plt.show()\n"
   ]
  },
  {
   "cell_type": "markdown",
   "metadata": {},
   "source": [
    "## t-Sne"
   ]
  },
  {
   "cell_type": "markdown",
   "metadata": {},
   "source": [
    "tsne with outliers marked"
   ]
  },
  {
   "cell_type": "code",
   "execution_count": null,
   "metadata": {},
   "outputs": [],
   "source": [
    "def graph_tsne(perplexity) -> None:\n",
    "    tsne = TSNE(n_components=2, random_state=42, perplexity=perplexity)\n",
    "    tsne_results = tsne.fit_transform(df_normed.drop(columns=\"class\"))\n",
    "\n",
    "    df_tsne = pd.DataFrame(tsne_results, columns=[\"comp1\", \"comp2\"])\n",
    "    df_tsne[\"class\"] = df[\"class\"]\n",
    "    df_tsne[\"type\"] = \"inlier\"\n",
    "    df_tsne.loc[list(outlier_indices), \"type\"] = \"outlier\"\n",
    "\n",
    "    plt.figure(figsize=(10, 8))\n",
    "    sns.scatterplot(x=\"comp1\", y=\"comp2\", hue=\"class\", style=\"type\", data=df_tsne)\n",
    "    plt.show()\n",
    "\n",
    "graph_tsne(10)\n",
    "graph_tsne(30)\n",
    "graph_tsne(50)\n"
   ]
  },
  {
   "cell_type": "markdown",
   "metadata": {},
   "source": [
    "## Umap"
   ]
  },
  {
   "cell_type": "markdown",
   "metadata": {},
   "source": [
    "umap with outliers marked"
   ]
  },
  {
   "cell_type": "code",
   "execution_count": null,
   "metadata": {},
   "outputs": [],
   "source": [
    "def graph_umap(par) -> None:\n",
    "    reducer = umap.UMAP(n_jobs=1, random_state=42, n_neighbors=par)\n",
    "    umap_results = reducer.fit_transform(df_normed.drop(columns=['class']))\n",
    "\n",
    "    df_umap = pd.DataFrame(umap_results, columns=['comp1', 'comp2'])\n",
    "    df_umap['class'] = df['class']\n",
    "    df_umap[\"type\"] = \"inlier\"\n",
    "    df_umap.loc[list(outlier_indices), \"type\"] = \"outlier\"\n",
    "\n",
    "    plt.figure(figsize=(10, 8))\n",
    "    sns.scatterplot(x='comp1', y='comp2', hue='class', style='type', data=df_umap)\n",
    "    plt.show()\n",
    "    \n",
    "graph_umap(5)\n",
    "graph_umap(15)\n",
    "graph_umap(50)\n"
   ]
  }
 ],
 "metadata": {
  "kernelspec": {
   "display_name": ".venv",
   "language": "python",
   "name": "python3"
  },
  "language_info": {
   "codemirror_mode": {
    "name": "ipython",
    "version": 3
   },
   "file_extension": ".py",
   "mimetype": "text/x-python",
   "name": "python",
   "nbconvert_exporter": "python",
   "pygments_lexer": "ipython3",
   "version": "3.11.5"
  }
 },
 "nbformat": 4,
 "nbformat_minor": 2
}
